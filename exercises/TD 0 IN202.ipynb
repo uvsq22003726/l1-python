{
 "cells": [
  {
   "cell_type": "markdown",
   "metadata": {},
   "source": [
    "# TD0 Représentation de nombres"
   ]
  },
  {
   "cell_type": "markdown",
   "metadata": {},
   "source": [
    "Convertir en binaire le nombre 115 (en effectuant des divisions successives par 2). "
   ]
  },
  {
   "cell_type": "markdown",
   "metadata": {},
   "source": [
    "On représente un entier en binaire par une liste de 0 et de 1. Donner une fonction `conversionBase2(nombre)`\n",
    "qui transforme un entier en sa représentation binaire. Attention, les bits sont calculés dans l'ordre inverse\n",
    "(little endian), il faudra sans doute renverser la liste avec la méthode `.reverse()`."
   ]
  },
  {
   "cell_type": "code",
   "execution_count": 10,
   "metadata": {},
   "outputs": [
    {
     "output_type": "stream",
     "name": "stdout",
     "text": [
      "[1, 1, 1, 0, 0, 1, 1]\n"
     ]
    }
   ],
   "source": [
    "def conversionBase2(nombre):\n",
    "    res = []\n",
    "    while nombre > 0:\n",
    "        res.append(nombre%2)\n",
    "        nombre = nombre//2\n",
    "    res.reverse()\n",
    "    return res\n",
    "\n",
    "print(conversionBase2(115))"
   ]
  },
  {
   "cell_type": "markdown",
   "metadata": {},
   "source": [
    "Faire une fonction d'affichage d'une liste représentant un nombre en binaire. Pour afficher avec `print` sans passer à la ligne il faut utiliser l'argument optionnel `end=\"\"`."
   ]
  },
  {
   "cell_type": "code",
   "execution_count": 5,
   "metadata": {},
   "outputs": [
    {
     "output_type": "stream",
     "name": "stdout",
     "text": [
      "1100111"
     ]
    }
   ],
   "source": [
    "def afficheBase(liste):\n",
    "        for n in liste:\n",
    "                print(n,end=\"\")\n",
    "\n",
    "afficheBase(conversionBase2(115))"
   ]
  },
  {
   "cell_type": "markdown",
   "metadata": {},
   "source": [
    "Convertir un nombre dans n'importe quelle base b (représenté comme une liste des chiffres dans cette base).\n",
    "Que faut-il changer dans afficheBase pour gérer n'importe quelle base ?"
   ]
  },
  {
   "cell_type": "code",
   "execution_count": 55,
   "metadata": {},
   "outputs": [
    {
     "output_type": "execute_result",
     "data": {
      "text/plain": [
       "[1, 0, 0, 0]"
      ]
     },
     "metadata": {},
     "execution_count": 55
    }
   ],
   "source": [
    "def conversionBase(nombre,b):\n",
    "    res = []\n",
    "    while nombre > 0:\n",
    "        res.append(nombre%b)\n",
    "        nombre = nombre//b\n",
    "    res.reverse()\n",
    "    return res\n",
    "\n",
    "conversionBase(8,2)"
   ]
  },
  {
   "cell_type": "markdown",
   "metadata": {},
   "source": [
    "Quelles sont les nombres entiers qu'on peut écrire avec n chiffres en base b ?"
   ]
  },
  {
   "cell_type": "markdown",
   "metadata": {},
   "source": [
    "Écrire une fonction d'affichage pour un nombre en Hexadécimal (en base 16).\n",
    "On rappelle que 10 doit être représenté par A, 11 par B ..."
   ]
  },
  {
   "cell_type": "code",
   "execution_count": 22,
   "metadata": {},
   "outputs": [
    {
     "output_type": "stream",
     "name": "stdout",
     "text": [
      "[2, 2, 'B', 8]\n"
     ]
    }
   ],
   "source": [
    "def afficheBaseHexa(liste):\n",
    "    for i in range(0,len(liste)):\n",
    "        if liste[i] == 10:\n",
    "            liste[i] = \"A\"\n",
    "        if liste[i] == 11:\n",
    "            liste[i] = \"B\"\n",
    "        if liste[i] == 12:\n",
    "            liste[i] = \"C\"\n",
    "        if liste[i] == 13:\n",
    "            liste[i] = \"D\"\n",
    "        if liste[i] == 14:\n",
    "            liste[i] = \"E\"\n",
    "        if liste[i] == 15:\n",
    "            liste[i] = \"F\"\n",
    "    print(liste)\n",
    "    return(liste)\n",
    "            \n",
    "afficheBaseHexa(conversionBase(8888,16))"
   ]
  },
  {
   "cell_type": "markdown",
   "metadata": {},
   "source": [
    "Donner la valeur de $(1001101)_2$ (dans la représentation traditionnelle en base 10).\n",
    "Écrire une fonction qui transforme la représentation en base b d'un entier en cet entier."
   ]
  },
  {
   "cell_type": "code",
   "execution_count": 46,
   "metadata": {},
   "outputs": [
    {
     "output_type": "stream",
     "name": "stdout",
     "text": [
      "1678\n"
     ]
    }
   ],
   "source": [
    "def conversionEntier(liste,b):\n",
    "    n = 0\n",
    "    for i in range(0,len(liste)):\n",
    "        n = n + liste[i] * pow(b,(len(liste)-i-1))\n",
    "    return n\n",
    "\n",
    "test = conversionBase(1678,2)\n",
    "print(conversionEntier(test,2))"
   ]
  },
  {
   "cell_type": "markdown",
   "metadata": {},
   "source": [
    "Additioner $(10001101)_2$ et $(10111001)_2$ à la main. "
   ]
  },
  {
   "cell_type": "markdown",
   "metadata": {},
   "source": [
    "On a `l` un nombre en base b et on veut l'écrire sur n chiffres (en ajoutant des 0 devant). Donner une fonction pour réaliser cette transformation."
   ]
  },
  {
   "cell_type": "code",
   "execution_count": 53,
   "metadata": {},
   "outputs": [
    {
     "output_type": "stream",
     "name": "stdout",
     "text": [
      "[1, 1, 1, 0, 0, 1, 1]\n"
     ]
    },
    {
     "output_type": "execute_result",
     "data": {
      "text/plain": [
       "[0, 0, 0, 1, 1, 1, 0, 0, 1, 1]"
      ]
     },
     "metadata": {},
     "execution_count": 53
    }
   ],
   "source": [
    "def etendreEcriture(l,n):\n",
    "    return [0]*(n-len(l))+l\n",
    "\n",
    "test = conversionBase(115,2)\n",
    "print(test)\n",
    "etendreEcriture(test,10)"
   ]
  },
  {
   "cell_type": "markdown",
   "metadata": {},
   "source": [
    "Réaliser ensuite un programme qui additionne la représentation en base b de deux entiers `l1` et `l2`.\n",
    "On pourra utiliser la méthode `.insert(pos,val)` qui ajoute val à la position pos."
   ]
  },
  {
   "cell_type": "code",
   "execution_count": 73,
   "metadata": {},
   "outputs": [
    {
     "output_type": "stream",
     "name": "stdout",
     "text": [
      "[1] [1]\n1 1\n[1, 0]\n"
     ]
    }
   ],
   "source": [
    "#Algorithme d'addition\n",
    "\n",
    "def addition(l1,l2,b):\n",
    "    somme = []\n",
    "    retenue = 0\n",
    "    if len(l1) < len(l2):\n",
    "        l1 = etendreEcriture(l1,len(l2))\n",
    "    if len(l1) > len(l2):\n",
    "        l2 = etendreEcriture(l2,len(l1))\n",
    "    print(l1,l2)\n",
    "    for i in range(0,len(l1)):\n",
    "        print(l1[-i],l2[-i])\n",
    "        if l1[-i]+l2[-i]+retenue >= b:\n",
    "            somme.insert(0,0)\n",
    "            retenue = 1\n",
    "        else:\n",
    "            somme.insert(0,l1[-i]+l2[-i]+retenue)\n",
    "            retenue = 0\n",
    "    if retenue == 1:\n",
    "        somme.insert(0,1)\n",
    "        print(somme)\n",
    "\n",
    "\n",
    "    return \n",
    "\n",
    "test1 = conversionBase(1,2)\n",
    "test2 = conversionBase(1,2)\n",
    "\n",
    "addition(test1,test2,2)"
   ]
  },
  {
   "cell_type": "code",
   "execution_count": null,
   "metadata": {},
   "outputs": [],
   "source": []
  }
 ],
 "metadata": {
  "kernelspec": {
   "display_name": "Python 3",
   "language": "python",
   "name": "python3"
  },
  "language_info": {
   "codemirror_mode": {
    "name": "ipython",
    "version": 3
   },
   "file_extension": ".py",
   "mimetype": "text/x-python",
   "name": "python",
   "nbconvert_exporter": "python",
   "pygments_lexer": "ipython3",
   "version": "3.8.3-final"
  }
 },
 "nbformat": 4,
 "nbformat_minor": 4
}